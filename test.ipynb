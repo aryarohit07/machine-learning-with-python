{
 "cells": [
  {
   "cell_type": "code",
   "execution_count": 11,
   "metadata": {},
   "outputs": [
    {
     "name": "stdout",
     "output_type": "stream",
     "text": [
      "          A         B         C         D\n",
      "0 -2.131829 -0.705176 -0.190271 -0.978417\n",
      "1 -2.425265 -1.523260  1.098983 -0.588465\n",
      "2 -0.460621  0.241460  0.079519 -0.405012\n",
      "3 -1.326256  1.756918 -0.899850  0.655994\n",
      "4 -1.008890 -0.386297  0.154008 -0.218772\n",
      "5  1.368549 -1.440120 -0.603539 -0.292917\n",
      "6  0.543753  1.649439 -1.630705  0.868175\n",
      "7  0.771498 -0.510236  0.661346  0.759198\n",
      "8 -1.368000  0.986955 -0.806467  0.174676\n",
      "9 -3.165502  0.596829  0.949352 -0.775705\n"
     ]
    }
   ],
   "source": [
    "import pandas as pd\n",
    "import numpy as np\n",
    "\n",
    "df = pd.DataFrame(np.random.randn(10, 4), columns=list('ABCD'))\n",
    "\n",
    "print(df)"
   ]
  },
  {
   "cell_type": "code",
   "execution_count": 18,
   "metadata": {},
   "outputs": [
    {
     "name": "stdout",
     "output_type": "stream",
     "text": [
      "          A         B         C         D     lable\n",
      "0 -2.131829 -0.705176 -0.190271 -0.978417 -0.292917\n",
      "1 -2.425265 -1.523260  1.098983 -0.588465  0.868175\n",
      "2 -0.460621  0.241460  0.079519 -0.405012  0.759198\n",
      "3 -1.326256  1.756918 -0.899850  0.655994  0.174676\n",
      "4 -1.008890 -0.386297  0.154008 -0.218772 -0.775705\n",
      "5  1.368549 -1.440120 -0.603539 -0.292917       NaN\n",
      "6  0.543753  1.649439 -1.630705  0.868175       NaN\n",
      "7  0.771498 -0.510236  0.661346  0.759198       NaN\n",
      "8 -1.368000  0.986955 -0.806467  0.174676       NaN\n",
      "9 -3.165502  0.596829  0.949352 -0.775705       NaN\n"
     ]
    }
   ],
   "source": [
    "df['lable'] = df['D'].shift(-5)\n",
    "\n",
    "print(df)"
   ]
  },
  {
   "cell_type": "code",
   "execution_count": null,
   "metadata": {
    "collapsed": true
   },
   "outputs": [],
   "source": []
  }
 ],
 "metadata": {
  "kernelspec": {
   "display_name": "Python 3",
   "language": "python",
   "name": "python3"
  },
  "language_info": {
   "codemirror_mode": {
    "name": "ipython",
    "version": 3
   },
   "file_extension": ".py",
   "mimetype": "text/x-python",
   "name": "python",
   "nbconvert_exporter": "python",
   "pygments_lexer": "ipython3",
   "version": "3.6.1"
  }
 },
 "nbformat": 4,
 "nbformat_minor": 2
}
