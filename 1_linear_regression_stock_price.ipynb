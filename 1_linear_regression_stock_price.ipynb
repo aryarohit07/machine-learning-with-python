{
 "cells": [
  {
   "cell_type": "markdown",
   "metadata": {},
   "source": [
    "# Linear Regression - predicting stock price"
   ]
  },
  {
   "cell_type": "code",
   "execution_count": 1,
   "metadata": {},
   "outputs": [
    {
     "name": "stdout",
     "output_type": "stream",
     "text": [
      "            Adj. Close    HL_PCT  PCT_Change  Adj. Volume\n",
      "Date                                                     \n",
      "2004-08-19   50.322842  8.441017   -0.323915   44659000.0\n",
      "2004-08-20   54.322689  8.537313   -6.739913   22834300.0\n",
      "2004-08-23   54.869377  4.062357    1.243144   18256100.0\n",
      "2004-08-24   52.597363  7.753210    6.074187   15247300.0\n",
      "2004-08-25   53.164113  3.966115   -1.169811    9188600.0\n"
     ]
    }
   ],
   "source": [
    "import pandas as pd\n",
    "import quandl as qdl\n",
    "\n",
    "# downloading the stock data\n",
    "df = qdl.get('WIKI/GOOGL')\n",
    "\n",
    "# taking just the useful data to create our feature vector.\n",
    "df = df[['Adj. Open', 'Adj. High', 'Adj. Low', 'Adj. Close', 'Adj. Volume']]\n",
    "\n",
    "# transforming data to have more useful features\n",
    "df['HL_PCT'] = (df['Adj. High'] - df['Adj. Low']) / df['Adj. Low'] * 100.0 #we may ignore 100\n",
    "df['PCT_Change'] = (df['Adj. Open'] - df['Adj. Close']) / df['Adj. Close'] * 100.0\n",
    "\n",
    "# creating final features\n",
    "df = df[['Adj. Close', 'HL_PCT', 'PCT_Change', 'Adj. Volume']]\n",
    "\n",
    "print(df.head())"
   ]
  },
  {
   "cell_type": "code",
   "execution_count": 2,
   "metadata": {},
   "outputs": [
    {
     "name": "stdout",
     "output_type": "stream",
     "text": [
      "total data points: 3240\n",
      "prediction is done for 33 days \n",
      "\n",
      "            Adj. Close    HL_PCT  PCT_Change  Adj. Volume      label\n",
      "Date                                                                \n",
      "2004-08-19   50.322842  8.441017   -0.323915   44659000.0  68.752232\n",
      "2004-08-20   54.322689  8.537313   -6.739913   22834300.0  69.639972\n",
      "2004-08-23   54.869377  4.062357    1.243144   18256100.0  69.078238\n",
      "2004-08-24   52.597363  7.753210    6.074187   15247300.0  67.839414\n",
      "2004-08-25   53.164113  3.966115   -1.169811    9188600.0  68.912727\n"
     ]
    }
   ],
   "source": [
    "import math\n",
    "print('total data points: '+str(len(df)))\n",
    "\n",
    "forecast_col = 'Adj. Close'\n",
    "\n",
    "# filling in NA data points\n",
    "df.fillna(-99999, inplace=True) #outlier in our dataset\n",
    "\n",
    "forecast_out = int(math.ceil(0.01*len(df)))\n",
    "\n",
    "# Creating lables which are the predictions.\n",
    "# here, each row has lable col is Adj. close price\n",
    "# forecast_out days in future.\n",
    "df['label'] = df[forecast_col].shift(-forecast_out)\n",
    "\n",
    "print('prediction is done for '\n",
    "      + str(forecast_out)+ ' days \\n')\n",
    "\n",
    "print(df.head())"
   ]
  },
  {
   "cell_type": "code",
   "execution_count": 3,
   "metadata": {},
   "outputs": [
    {
     "name": "stdout",
     "output_type": "stream",
     "text": [
      "training data input size=3207 and label size=3207  should be equal\n",
      "accuracy \"Squared Error\" of our trained model is 0.970999737509\n",
      "\n",
      "\n",
      "[  981.88096667   956.59623274   966.52952799   971.51523966   980.96223691\n",
      "   987.11858938   994.83480419  1007.52622707  1010.09964501  1013.43408597\n",
      "  1002.60193619  1004.7875497   1012.94809345  1020.54281634  1012.88533913\n",
      "  1018.69867448  1021.16547512   980.03996573   974.60039174   986.11889181\n",
      "   983.0650134    975.12650342   974.62506564   991.75484911   985.23005036\n",
      "   995.34491684   993.78446859  1002.61165753   986.71490517   962.71650697\n",
      "   974.89745071   951.82866337   944.86348143]\n"
     ]
    }
   ],
   "source": [
    "import numpy as np\n",
    "from sklearn import preprocessing, svm\n",
    "from sklearn.linear_model import LinearRegression\n",
    "from sklearn.model_selection import train_test_split\n",
    "import pickle\n",
    "\n",
    "'''\n",
    "Creating input feature vectors by dropping the labels\n",
    "'''\n",
    "X = np.array(df.drop(['label'], 1))\n",
    "\n",
    "'''\n",
    "Scaling the input features\n",
    "'''\n",
    "X = preprocessing.scale(X)\n",
    "\n",
    "'''\n",
    "Creating input features to predict values.\n",
    "'''\n",
    "X_lately = X[-forecast_out:] # will use to predict against\n",
    "X = X[:-forecast_out:] # will use to train/test against\n",
    "\n",
    "df.dropna(inplace=True)\n",
    "y = np.array(df['label'])\n",
    "\n",
    "print('training data input size='+str(len(X)),\n",
    "      'and label size='+str(len(y)),\n",
    "      ' should be equal')\n",
    "\n",
    "# Splitting the dataset into train and test set.\n",
    "X_train, X_test, y_train, y_test = train_test_split(X, y, test_size=0.2)\n",
    "\n",
    "# creating Linear Regression model\n",
    "\n",
    "clf = LinearRegression(n_jobs=-1)\n",
    "#clf = svm.SVR(kernel='linear')\n",
    "\n",
    "# training the model to fit the data set\n",
    "clf.fit(X_train, y_train)\n",
    "\n",
    "with open('linearregression.pickle', 'wb') as f:\n",
    "    pickle.dump(clf, f)\n",
    "    \n",
    "pickle_in = open('linearregression.pickle', 'rb')\n",
    "clf = pickle.load(pickle_in)\n",
    "\n",
    "# testing the accuracy of the trained model\n",
    "accuracy = clf.score(X_test, y_test)\n",
    "\n",
    "print('accuracy \"Squared Error\" of our trained model is '\n",
    "      +str(accuracy) + '\\n\\n')\n",
    "\n",
    "'''\n",
    "Lets do some prediction\n",
    "'''\n",
    "\n",
    "predictions = clf.predict(X_lately)\n",
    "\n",
    "print(predictions)"
   ]
  },
  {
   "cell_type": "code",
   "execution_count": 4,
   "metadata": {
    "scrolled": true
   },
   "outputs": [
    {
     "data": {
      "image/png": "[encoded data removed]",
      "text/plain": [
       "<matplotlib.figure.Figure at 0x117ebf898>"
      ]
     },
     "metadata": {},
     "output_type": "display_data"
    }
   ],
   "source": [
    "import datetime\n",
    "import matplotlib.pyplot as plt\n",
    "from matplotlib import style\n",
    "\n",
    "style.use('ggplot')\n",
    "\n",
    "df['Predictions'] = np.nan\n",
    "last_date = df.iloc[-1].name\n",
    "last_unix = last_date.timestamp()\n",
    "one_day = 86400\n",
    "next_unix = last_unix + one_day\n",
    "\n",
    "for p in predictions:\n",
    "    next_date = datetime.datetime.fromtimestamp(next_unix)\n",
    "    next_unix += one_day\n",
    "    df.loc[next_date] = [np.nan for _ in range(len(df.columns)-1)] + [p]\n",
    "    \n",
    "    \n",
    "df['Adj. Close'].plot()\n",
    "df['Predictions'].plot()\n",
    "plt.legend(loc=4)\n",
    "plt.xlabel('Date')\n",
    "plt.ylabel('Price')\n",
    "plt.show()"
   ]
  }
 ],
 "metadata": {
  "kernelspec": {
   "display_name": "Python 3",
   "language": "python",
   "name": "python3"
  },
  "language_info": {
   "codemirror_mode": {
    "name": "ipython",
    "version": 3
   },
   "file_extension": ".py",
   "mimetype": "text/x-python",
   "name": "python",
   "nbconvert_exporter": "python",
   "pygments_lexer": "ipython3",
   "version": "3.6.1"
  }
 },
 "nbformat": 4,
 "nbformat_minor": 2
}
