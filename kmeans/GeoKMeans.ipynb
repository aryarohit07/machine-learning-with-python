{
 "cells": [
  {
   "cell_type": "code",
   "execution_count": 1,
   "metadata": {},
   "outputs": [
    {
     "data": {
      "image/png": "[encoded data removed]",
      "text/plain": [
       "<matplotlib.figure.Figure at 0x107e2ae80>"
      ]
     },
     "metadata": {},
     "output_type": "display_data"
    }
   ],
   "source": [
    "import pandas as pd\n",
    "import numpy as np\n",
    "import matplotlib.pyplot as plt\n",
    "from matplotlib import style\n",
    "from sklearn.cluster import KMeans\n",
    "from sklearn import preprocessing\n",
    "\n",
    "df = pd.read_csv('jc1202554364.txt')\n",
    "\n",
    "X = df.values\n",
    "\n",
    "plt.scatter(X[:,0], X[:,1])\n",
    "plt.show()"
   ]
  },
  {
   "cell_type": "code",
   "execution_count": 2,
   "metadata": {},
   "outputs": [
    {
     "data": {
      "image/png": "[encoded data removed]",
      "text/plain": [
       "<matplotlib.figure.Figure at 0x112e25be0>"
      ]
     },
     "metadata": {},
     "output_type": "display_data"
    },
    {
     "name": "stdout",
     "output_type": "stream",
     "text": [
      "[[ 12.91774919  77.63088874]\n",
      " [ 12.25641479  78.98539644]\n",
      " [ 15.5291032   76.6337014 ]\n",
      " [ 12.32500869  78.35274948]\n",
      " [ 13.0573627   80.2648162 ]]\n"
     ]
    }
   ],
   "source": [
    "clf = KMeans(n_clusters=5)\n",
    "clf.fit(X)\n",
    "\n",
    "centroids = clf.cluster_centers_\n",
    "labels = clf.labels_\n",
    "\n",
    "colors = [\"r.\", \"b.\", \"y.\", \"g.\"] * 10\n",
    "\n",
    "for i in range(len(X)):\n",
    "    plt.plot(X[i][0], X[i][1], colors[labels[i]])\n",
    "plt.scatter(centroids[:,0], centroids[:,1], marker='x', s = 200, color='g')\n",
    "plt.show()\n",
    "\n",
    "# 12.91808, 77.63193\n",
    "\n",
    "print(centroids)"
   ]
  },
  {
   "cell_type": "code",
   "execution_count": 3,
   "metadata": {},
   "outputs": [
    {
     "data": {
      "image/png": "[encoded data removed]",
      "text/plain": [
       "<matplotlib.figure.Figure at 0x112efa470>"
      ]
     },
     "metadata": {},
     "output_type": "display_data"
    },
    {
     "name": "stdout",
     "output_type": "stream",
     "text": [
      "[[ 12.9180506   77.6308859 ]\n",
      " [ 12.25641479  78.98539644]\n",
      " [ 12.49988357  78.18515724]\n",
      " [ 12.35422308  78.55815375]\n",
      " [ 15.5291032   76.6337014 ]\n",
      " [ 11.8053349   78.4374276 ]\n",
      " [ 13.0573627   80.2648162 ]]\n"
     ]
    }
   ],
   "source": [
    "from sklearn.cluster import MeanShift\n",
    "ms = MeanShift(bandwidth=0.4)\n",
    "ms.fit(X)\n",
    "\n",
    "mscentroids = ms.cluster_centers_\n",
    "mslabels = ms.labels_\n",
    "\n",
    "for i in range(len(X)):\n",
    "    plt.plot(X[i][0], X[i][1], colors[mslabels[i]])\n",
    "plt.scatter(mscentroids[:,0], mscentroids[:,1], marker='x', s = 200, color='g')\n",
    "plt.show()\n",
    "\n",
    "# 12.91808, 77.63193\n",
    "\n",
    "print(mscentroids)"
   ]
  },
  {
   "cell_type": "code",
   "execution_count": 4,
   "metadata": {},
   "outputs": [
    {
     "name": "stdout",
     "output_type": "stream",
     "text": [
      "2730\n"
     ]
    }
   ],
   "source": [
    "print(len(X))"
   ]
  }
 ],
 "metadata": {
  "kernelspec": {
   "display_name": "Python 3",
   "language": "python",
   "name": "python3"
  },
  "language_info": {
   "codemirror_mode": {
    "name": "ipython",
    "version": 3
   },
   "file_extension": ".py",
   "mimetype": "text/x-python",
   "name": "python",
   "nbconvert_exporter": "python",
   "pygments_lexer": "ipython3",
   "version": "3.5.3"
  }
 },
 "nbformat": 4,
 "nbformat_minor": 2
}
