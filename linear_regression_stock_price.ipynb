{
 "cells": [
  {
   "cell_type": "markdown",
   "metadata": {},
   "source": [
    "# Linear Regression - Fiting a linear model to stock data"
   ]
  },
  {
   "cell_type": "code",
   "execution_count": 1,
   "metadata": {},
   "outputs": [
    {
     "name": "stdout",
     "output_type": "stream",
     "text": [
      "            Adj. Close    HL_PCT  PCT_Change  Adj. Volume\n",
      "Date                                                     \n",
      "2004-08-19   50.322842  8.441017   -0.323915   44659000.0\n",
      "2004-08-20   54.322689  8.537313   -6.739913   22834300.0\n",
      "2004-08-23   54.869377  4.062357    1.243144   18256100.0\n",
      "2004-08-24   52.597363  7.753210    6.074187   15247300.0\n",
      "2004-08-25   53.164113  3.966115   -1.169811    9188600.0\n"
     ]
    }
   ],
   "source": [
    "import pandas as pd\n",
    "import quandl as qdl\n",
    "\n",
    "# downloading the stock data\n",
    "df = qdl.get('WIKI/GOOGL')\n",
    "\n",
    "# taking just the useful data to create our feature vector.\n",
    "df = df[['Adj. Open', 'Adj. High', 'Adj. Low', 'Adj. Close', 'Adj. Volume']]\n",
    "\n",
    "# transforming data to have more useful features\n",
    "df['HL_PCT'] = (df['Adj. High'] - df['Adj. Low']) / df['Adj. Low'] * 100.0 #we may ignore 100\n",
    "df['PCT_Change'] = (df['Adj. Open'] - df['Adj. Close']) / df['Adj. Close'] * 100.0\n",
    "\n",
    "# creating final features\n",
    "df = df[['Adj. Close', 'HL_PCT', 'PCT_Change', 'Adj. Volume']]\n",
    "\n",
    "print(df.head())"
   ]
  },
  {
   "cell_type": "code",
   "execution_count": 2,
   "metadata": {},
   "outputs": [
    {
     "name": "stdout",
     "output_type": "stream",
     "text": [
      "total data points: 3240\n",
      "prediction is done for 33 days \n",
      "\n",
      "            Adj. Close    HL_PCT  PCT_Change  Adj. Volume   label\n",
      "Date                                                             \n",
      "2017-05-09      956.71  0.817267    0.482905    1633396.0  972.09\n",
      "2017-05-10      954.84  0.723280    0.144527    1135809.0  948.09\n",
      "2017-05-11      955.89  0.988815   -0.481227    1016797.0  961.01\n",
      "2017-05-12      955.14  0.621810    0.283728    1204133.0  937.82\n",
      "2017-05-15      959.22  1.036922   -0.409708    1314574.0  929.68\n"
     ]
    }
   ],
   "source": [
    "import math\n",
    "print('total data points: '+str(len(df)))\n",
    "\n",
    "forecast_col = 'Adj. Close'\n",
    "\n",
    "# filling in NA data points\n",
    "df.fillna(-99999, inplace=True) #outlier in our dataset\n",
    "\n",
    "forecast_out = int(math.ceil(0.01*len(df)))\n",
    "\n",
    "# Creating lables which are the predictions\n",
    "# here, each row has lable col is Adj. close price\n",
    "# forecast_out days in future.\n",
    "df['label'] = df[forecast_col].shift(-forecast_out)\n",
    "\n",
    "print('prediction is done for '\n",
    "      + str(forecast_out)+ ' days \\n')\n",
    "# removing the rows which has label as NaN.\n",
    "df.dropna(inplace=True)\n",
    "print(df.tail())"
   ]
  },
  {
   "cell_type": "code",
   "execution_count": 3,
   "metadata": {},
   "outputs": [
    {
     "name": "stdout",
     "output_type": "stream",
     "text": [
      "accuracy \"Squared Error\" of our trained model is 0.972491456369\n"
     ]
    }
   ],
   "source": [
    "import numpy as np\n",
    "from sklearn import preprocessing, svm\n",
    "from sklearn.linear_model import LinearRegression\n",
    "from sklearn.model_selection import train_test_split\n",
    "\n",
    "X = np.array(df.drop(['label'], 1))\n",
    "y = np.array(df['label'])\n",
    "\n",
    "# scaling the data set\n",
    "X = preprocessing.scale(X)\n",
    "\n",
    "# Splitting the dataset into train and test set.\n",
    "X_train, X_test, y_train, y_test = train_test_split(X, y, test_size=0.2)\n",
    "\n",
    "# creating Linear Regression model\n",
    "\n",
    "clf = LinearRegression(n_jobs=4)\n",
    "#clf = svm.SVR(kernel='linear')\n",
    "\n",
    "# training the model to fit the data set\n",
    "clf.fit(X_train, y_train)\n",
    "\n",
    "# testing the accuracy of the trained model\n",
    "accuracy = clf.score(X_test, y_test)\n",
    "\n",
    "print('accuracy \"Squared Error\" of our trained model is '+str(accuracy))\n"
   ]
  },
  {
   "cell_type": "code",
   "execution_count": null,
   "metadata": {
    "collapsed": true
   },
   "outputs": [],
   "source": []
  }
 ],
 "metadata": {
  "kernelspec": {
   "display_name": "Python 3",
   "language": "python",
   "name": "python3"
  },
  "language_info": {
   "codemirror_mode": {
    "name": "ipython",
    "version": 3
   },
   "file_extension": ".py",
   "mimetype": "text/x-python",
   "name": "python",
   "nbconvert_exporter": "python",
   "pygments_lexer": "ipython3",
   "version": "3.6.1"
  }
 },
 "nbformat": 4,
 "nbformat_minor": 2
}
