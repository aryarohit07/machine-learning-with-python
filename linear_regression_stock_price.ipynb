{
 "cells": [
  {
   "cell_type": "markdown",
   "metadata": {},
   "source": [
    "# Linear Regression - predicting stock price"
   ]
  },
  {
   "cell_type": "code",
   "execution_count": 1,
   "metadata": {},
   "outputs": [
    {
     "name": "stdout",
     "output_type": "stream",
     "text": [
      "            Adj. Close    HL_PCT  PCT_Change  Adj. Volume\n",
      "Date                                                     \n",
      "2004-08-19   50.322842  8.441017   -0.323915   44659000.0\n",
      "2004-08-20   54.322689  8.537313   -6.739913   22834300.0\n",
      "2004-08-23   54.869377  4.062357    1.243144   18256100.0\n",
      "2004-08-24   52.597363  7.753210    6.074187   15247300.0\n",
      "2004-08-25   53.164113  3.966115   -1.169811    9188600.0\n"
     ]
    }
   ],
   "source": [
    "import pandas as pd\n",
    "import quandl as qdl\n",
    "\n",
    "# downloading the stock data\n",
    "df = qdl.get('WIKI/GOOGL')\n",
    "\n",
    "# taking just the useful data to create our feature vector.\n",
    "df = df[['Adj. Open', 'Adj. High', 'Adj. Low', 'Adj. Close', 'Adj. Volume']]\n",
    "\n",
    "# transforming data to have more useful features\n",
    "df['HL_PCT'] = (df['Adj. High'] - df['Adj. Low']) / df['Adj. Low'] * 100.0 #we may ignore 100\n",
    "df['PCT_Change'] = (df['Adj. Open'] - df['Adj. Close']) / df['Adj. Close'] * 100.0\n",
    "\n",
    "# creating final features\n",
    "df = df[['Adj. Close', 'HL_PCT', 'PCT_Change', 'Adj. Volume']]\n",
    "\n",
    "print(df.head())"
   ]
  },
  {
   "cell_type": "code",
   "execution_count": 5,
   "metadata": {},
   "outputs": [
    {
     "name": "stdout",
     "output_type": "stream",
     "text": [
      "total data points: 3207\n",
      "prediction is done for 33 days \n",
      "\n",
      "            Adj. Close    HL_PCT  PCT_Change  Adj. Volume      label\n",
      "Date                                                                \n",
      "2004-08-19   50.322842  8.441017   -0.323915   44659000.0  68.752232\n",
      "2004-08-20   54.322689  8.537313   -6.739913   22834300.0  69.639972\n",
      "2004-08-23   54.869377  4.062357    1.243144   18256100.0  69.078238\n",
      "2004-08-24   52.597363  7.753210    6.074187   15247300.0  67.839414\n",
      "2004-08-25   53.164113  3.966115   -1.169811    9188600.0  68.912727\n"
     ]
    }
   ],
   "source": [
    "import math\n",
    "print('total data points: '+str(len(df)))\n",
    "\n",
    "forecast_col = 'Adj. Close'\n",
    "\n",
    "# filling in NA data points\n",
    "df.fillna(-99999, inplace=True) #outlier in our dataset\n",
    "\n",
    "forecast_out = int(math.ceil(0.01*len(df)))\n",
    "\n",
    "# Creating lables which are the predictions.\n",
    "# here, each row has lable col is Adj. close price\n",
    "# forecast_out days in future.\n",
    "df['label'] = df[forecast_col].shift(-forecast_out)\n",
    "\n",
    "print('prediction is done for '\n",
    "      + str(forecast_out)+ ' days \\n')\n",
    "\n",
    "print(df.head())"
   ]
  },
  {
   "cell_type": "code",
   "execution_count": 6,
   "metadata": {},
   "outputs": [
    {
     "name": "stdout",
     "output_type": "stream",
     "text": [
      "training data input size=3174 and label size=3174  should be equal\n",
      "accuracy \"Squared Error\" of our trained model is 0.968754489192\n",
      "\n",
      "\n",
      "[ 859.44794278  859.64038976  858.06415755  865.96889266  862.79285516\n",
      "  857.47910762  854.35684106  851.71596892  851.852431    849.36864702\n",
      "  851.65529278  850.30167033  864.38692573  864.14001605  866.43820755\n",
      "  870.03554763  869.10015741  887.88801674  897.65189517  898.6361765\n",
      "  901.11313478  932.30755732  941.15706672  945.86522865  957.02101558\n",
      "  963.40847869  958.95219077  967.35243279  965.73910264  964.26905334\n",
      "  965.20755941  964.63052645  968.33622409]\n"
     ]
    }
   ],
   "source": [
    "import numpy as np\n",
    "from sklearn import preprocessing, svm\n",
    "from sklearn.linear_model import LinearRegression\n",
    "from sklearn.model_selection import train_test_split\n",
    "\n",
    "'''\n",
    "Creating input feature vectors by dropping the labels\n",
    "'''\n",
    "X = np.array(df.drop(['label'], 1))\n",
    "\n",
    "'''\n",
    "Scaling the input features\n",
    "'''\n",
    "X = preprocessing.scale(X)\n",
    "\n",
    "'''\n",
    "Creating input features to predict values.\n",
    "'''\n",
    "X_lately = X[-forecast_out:] # will use to predict against\n",
    "X = X[:-forecast_out:] # will use to train/test against\n",
    "\n",
    "df.dropna(inplace=True)\n",
    "y = np.array(df['label'])\n",
    "\n",
    "print('training data input size='+str(len(X)),\n",
    "      'and label size='+str(len(y)),\n",
    "      ' should be equal')\n",
    "\n",
    "# Splitting the dataset into train and test set.\n",
    "X_train, X_test, y_train, y_test = train_test_split(X, y, test_size=0.2)\n",
    "\n",
    "# creating Linear Regression model\n",
    "\n",
    "clf = LinearRegression(n_jobs=-1)\n",
    "#clf = svm.SVR(kernel='linear')\n",
    "\n",
    "# training the model to fit the data set\n",
    "clf.fit(X_train, y_train)\n",
    "\n",
    "# testing the accuracy of the trained model\n",
    "accuracy = clf.score(X_test, y_test)\n",
    "\n",
    "print('accuracy \"Squared Error\" of our trained model is '\n",
    "      +str(accuracy) + '\\n\\n')\n",
    "\n",
    "'''\n",
    "Lets do some prediction\n",
    "'''\n",
    "\n",
    "predictions = clf.predict(X_lately)\n",
    "\n",
    "print(predictions)"
   ]
  },
  {
   "cell_type": "code",
   "execution_count": 15,
   "metadata": {
    "scrolled": true
   },
   "outputs": [
    {
     "data": {
      "image/png": "[encoded data removed]",
      "text/plain": [
       "<matplotlib.figure.Figure at 0x11da0cc88>"
      ]
     },
     "metadata": {},
     "output_type": "display_data"
    }
   ],
   "source": [
    "import datetime\n",
    "import matplotlib.pyplot as plt\n",
    "from matplotlib import style\n",
    "\n",
    "style.use('ggplot')\n",
    "\n",
    "df['Predictions'] = np.nan\n",
    "last_date = df.iloc[-1].name\n",
    "last_unix = last_date.timestamp()\n",
    "one_day = 86400\n",
    "next_unix = last_unix + one_day\n",
    "\n",
    "for p in predictions:\n",
    "    next_date = datetime.datetime.fromtimestamp(next_unix)\n",
    "    next_unix += one_day\n",
    "    df.loc[next_date] = [np.nan for _ in range(len(df.columns)-1)] + [p]\n",
    "    \n",
    "    \n",
    "df['Adj. Close'].plot()\n",
    "df['Predictions'].plot()\n",
    "plt.legend(loc=4)\n",
    "plt.xlabel('Date')\n",
    "plt.ylabel('Price')\n",
    "plt.show()"
   ]
  }
 ],
 "metadata": {
  "kernelspec": {
   "display_name": "Python 3",
   "language": "python",
   "name": "python3"
  },
  "language_info": {
   "codemirror_mode": {
    "name": "ipython",
    "version": 3
   },
   "file_extension": ".py",
   "mimetype": "text/x-python",
   "name": "python",
   "nbconvert_exporter": "python",
   "pygments_lexer": "ipython3",
   "version": "3.6.1"
  }
 },
 "nbformat": 4,
 "nbformat_minor": 2
}
